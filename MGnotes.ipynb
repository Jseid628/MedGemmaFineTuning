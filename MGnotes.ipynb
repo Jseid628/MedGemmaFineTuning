{
 "cells": [
  {
   "cell_type": "code",
   "execution_count": 2,
   "metadata": {},
   "outputs": [
    {
     "name": "stdout",
     "output_type": "stream",
     "text": [
      "Image saved to sample_image.png\n",
      "Dataset({\n",
      "    features: ['image', 'label'],\n",
      "    num_rows: 10000\n",
      "})\n",
      "{'image': Image(mode=None, decode=True, id=None), 'label': Value(dtype='bool', id=None)}\n"
     ]
    }
   ],
   "source": [
    "from datasets import load_dataset\n",
    "\n",
    "dataset = load_dataset(\"1aurent/PatchCamelyon\")\n",
    "\n",
    "# Optional: subset to first 10,000 samples\n",
    "dataset = dataset[\"train\"].shuffle(seed=42).select(range(10000))\n",
    "\n",
    "# Inspect\n",
    "example = dataset[0]\n",
    "image = example['image']\n",
    "\n",
    "image.save(\"sample_image.png\")\n",
    "print(\"Image saved to sample_image.png\")\n",
    "\n",
    "print(dataset)\n",
    "print(dataset.features)"
   ]
  },
  {
   "cell_type": "markdown",
   "metadata": {},
   "source": []
  },
  {
   "cell_type": "markdown",
   "metadata": {},
   "source": [
    "# File Structure"
   ]
  },
  {
   "cell_type": "markdown",
   "metadata": {},
   "source": [
    "```text\n",
    "patchcamelyon_subset/\n",
    "├── tumor/\n",
    "│   ├── img00001.png\n",
    "│   ├── img00002.png\n",
    "│   └── ...\n",
    "└── normal/\n",
    "    ├── img00001.png\n",
    "    ├── img00002.png\n",
    "    └── ...\n",
    "```"
   ]
  },
  {
   "cell_type": "code",
   "execution_count": null,
   "metadata": {},
   "outputs": [],
   "source": [
    "example[\"messages\"] = [\n",
    "        {\"role\": \"user\",\"content\": [{\"type\": \"image\",},{\"type\": \"text\",\"text\": PROMPT,},],},\n",
    "        {\n",
    "            \"role\": \"assistant\",\n",
    "            \"content\": [\n",
    "                {\n",
    "                    \"type\": \"text\",\n",
    "                    \"text\": HISTOPATHOLOGY_CLASSES[example[\"label\"]],\n",
    "                },\n",
    "            ],\n",
    "        },\n",
    "    ]"
   ]
  },
  {
   "cell_type": "code",
   "execution_count": 10,
   "metadata": {},
   "outputs": [
    {
     "name": "stdout",
     "output_type": "stream",
     "text": [
      "[{1, 2}, {2, 'hello'}]\n"
     ]
    }
   ],
   "source": [
    "from typing import Any\n",
    "a: dict[str, Any] = {}\n",
    "a['messages'] = [{1,2},{'hello', 2}]\n",
    "print(a['messages'])\n"
   ]
  }
 ],
 "metadata": {
  "kernelspec": {
   "display_name": "medgemma_train",
   "language": "python",
   "name": "python3"
  },
  "language_info": {
   "codemirror_mode": {
    "name": "ipython",
    "version": 3
   },
   "file_extension": ".py",
   "mimetype": "text/x-python",
   "name": "python",
   "nbconvert_exporter": "python",
   "pygments_lexer": "ipython3",
   "version": "3.10.18"
  }
 },
 "nbformat": 4,
 "nbformat_minor": 2
}
